{
 "cells": [
  {
   "cell_type": "markdown",
   "metadata": {},
   "source": [
    "# GPU 체크"
   ]
  },
  {
   "cell_type": "code",
   "execution_count": null,
   "metadata": {
    "collapsed": true,
    "scrolled": false
   },
   "outputs": [],
   "source": [
    "# %load device_test.py\n",
    "import os\n",
    "# os.environ[\"CUDA_VISIBLE_DEVICES\"] = \",\"  # use CPU only\n",
    "# del os.environ[\"CUDA_VISIBLE_DEVICES\"]\n",
    "\n",
    "import tensorflow as tf\n",
    "\n",
    "print(\"tf.test.is_built_with_cuda():\", tf.test.is_built_with_cuda())\n",
    "print(\"tf.test.is_gpu_available():\", tf.test.is_gpu_available())\n",
    "\n",
    "sess = tf.Session()\n",
    "if (sess.list_devices): # for tensorflow 1.3+\n",
    "      for d in sess.list_devices():\n",
    "          print(d.name)\n",
    "sess.close()\n",
    "\n",
    "# Undocumented feature\n",
    "from tensorflow.python.client import device_lib\n",
    "print(device_lib.list_local_devices())\n"
   ]
  },
  {
   "cell_type": "markdown",
   "metadata": {},
   "source": [
    "# hello program"
   ]
  },
  {
   "cell_type": "code",
   "execution_count": null,
   "metadata": {
    "collapsed": true
   },
   "outputs": [],
   "source": [
    "# %load hello.py\n",
    "import tensorflow as tf\n",
    "\n",
    "sess = tf.Session()\n",
    "hello = tf.constant('Hello, TensorFlow!') # node (operation)\n",
    "print(sess.run(hello)) # data flow graph의 실행\n",
    "\n",
    "sess.close()\n"
   ]
  },
  {
   "cell_type": "markdown",
   "metadata": {},
   "source": [
    "# 데이터 플로우 그래프\n",
    "- 하나의 데이터 플로 그래프 표현\n",
    "- 연산을 나타내는 노드(node)와 노드간에 교환되는 데이터인 엣지(edge)로 구성된다.\n",
    "- 노드간에 교환되는 데이터는 스칼라, 벡터, 행렬 등 다차원 배열을 의미하는 텐서(tensor)이다.\n",
    "![Alt text](graph_test.png)\n",
    "\n",
    "- Const:0 => Const에 0 출력\n",
    "- Const_1:0 => Const_1에 1 출력"
   ]
  },
  {
   "cell_type": "code",
   "execution_count": null,
   "metadata": {
    "collapsed": true
   },
   "outputs": [],
   "source": [
    "# %load graph_test.py\n",
    "import tensorflow as tf\n",
    "\n",
    "a = tf.constant(1.0)   #1.0 이라는 텐서 변수에 저장\n",
    "b = tf.constant(2.0)   #2.0 이라는 텐서 변수에 저장\n",
    "c = a + b\n",
    "\n",
    "print(type(a), \",\", a)\n",
    "print(type(b), \",\", b)\n",
    "print(type(c), \",\", c)  #결과적으로 텐서 3개가 만들어짐."
   ]
  },
  {
   "cell_type": "code",
   "execution_count": null,
   "metadata": {
    "collapsed": true
   },
   "outputs": [],
   "source": [
    "print(\"get_operations():\")  \n",
    "\n",
    "#operation 객체가 node 객체인데 모두 출력.\n",
    "for op in tf.get_default_graph().get_operations():\n",
    "    print(\"op.name: \", op.name, \", op.type: \", op.type, \", op.inputs: \", [x for x in op.inputs],\n",
    "              \", op.outputs: \", [x for x in op.outputs], sep=\"\")\n",
    "g = tf.get_default_graph()\n",
    "print(a.graph is g)"
   ]
  },
  {
   "cell_type": "code",
   "execution_count": null,
   "metadata": {
    "collapsed": true
   },
   "outputs": [],
   "source": [
    "print(\"Const:\", g.get_operation_by_name(\"Const\"))\n",
    "print(\"Const.output[0]:\", g.get_operation_by_name(\"Const\").outputs[0])\n",
    "print(\"Const:0\", g.get_tensor_by_name(\"Const:0\"))\n",
    "print(\"a:\", a, type(a))\n",
    "print(\"a.name: \", a.name, \", a.op.name: \", a.op.name, \", a.value_index: \", a.value_index,\n",
    "          \", a.shape: \", a.shape, \", a.dtype: \", a.dtype, sep=\"\")\n",
    "\n",
    "print(\"Const_1:\", g.get_operation_by_name(\"Const_1\"))\n",
    "print(\"Const_1.outputs[0]:\", g.get_operation_by_name(\"Const_1\").outputs[0])\n",
    "print(\"Const_1:0\", g.get_tensor_by_name(\"Const_1:0\"))\n",
    "print(\"b:\", b, type(b))\n",
    "print(\"b.name: \", b.name, \", b.op.name: \", b.op.name, \", b.value_index: \", b.value_index,\n",
    "          \", b.shape: \", b.shape, \", b.dtype: \", b.dtype, sep=\"\")\n",
    "\n",
    "print(\"add:\", g.get_operation_by_name(\"add\"))\n",
    "print(\"add.outputs[0]:\", g.get_operation_by_name(\"add\").outputs[0])\n",
    "print(\"add.inputs[0]:\", g.get_operation_by_name(\"add\").inputs[0])\n",
    "print(\"add.inputs[1]:\", g.get_operation_by_name(\"add\").inputs[1])\n",
    "print(\"c:\", c, type(c))\n",
    "print(\"c.name: \", c.name, \", c.op.name: \", c.op.name, \", c.value_index: \", c.value_index,\n",
    "          \", c.shape: \", c.shape, \", c.dtype: \", c.dtype, sep=\"\")"
   ]
  },
  {
   "cell_type": "code",
   "execution_count": null,
   "metadata": {
    "collapsed": true
   },
   "outputs": [],
   "source": [
    "sess = tf.Session()\n",
    "v = sess.run(g.get_tensor_by_name(\"Const:0\"))   #run 에서 나올때는 numpy 타입으로 나옴\n",
    "print(\"%s: %r\\n\" % (type(v), v))\n",
    "sess.close()"
   ]
  },
  {
   "cell_type": "markdown",
   "metadata": {},
   "source": [
    "# 세션 관리"
   ]
  },
  {
   "cell_type": "code",
   "execution_count": null,
   "metadata": {
    "collapsed": true
   },
   "outputs": [],
   "source": [
    "# %load session_test.py\n",
    "import tensorflow as tf\n",
    "\n",
    "# 텐서플로 기본 그래프 생성\n",
    "a = tf.constant(1)\n",
    "b = tf.constant(2)\n",
    "c = a + b\n",
    "addOp = tf.get_default_graph().get_operation_by_name(\"add\")\n",
    "\n",
    "# 세션 생성 및 닫기\n",
    "sess = tf.Session()\n",
    "v = sess.run(c)                   #c를 실행하기 위해 내부적으로 a와 b도 실행됨.\n",
    "print(\"%s: %r\\n\" % (type(v), v))\n",
    "v = sess.run(addOp)               #addOp도 따로 실행 가능.\n",
    "print(\"%s: %r\\n\" % (type(v), v))\n",
    "sess.close()"
   ]
  },
  {
   "cell_type": "code",
   "execution_count": null,
   "metadata": {
    "collapsed": true
   },
   "outputs": [],
   "source": [
    "# 세션 생성 및 자동 닫기 (with 안에 있는 두 문장이 실행되고 자동으로 세션 닫음)\n",
    "with tf.Session() as sess:\n",
    "    v = sess.run(c)\n",
    "    print(\"%s: %r\\n\" % (type(v), v))\n",
    "\n",
    "# 기본 세션 (as_default())\n",
    "sess = tf.Session()\n",
    "with sess.as_default():                #sess 객체를 생성 후 default세션 지정. (with 안에서만)\n",
    "    v = addOp.run()\n",
    "    print(\"%s: %r\\n\" % (type(v), v))\n",
    "    v = c.eval()\n",
    "    print(\"%s: %r\\n\" % (type(v), v))\n",
    "\n",
    "sess.close()\n",
    "\n",
    "# 기본 세션 (tf.InteractiveSession)\n",
    "sess = tf.InteractiveSession()         #만드는 즉시 default 세션이 됨\n",
    "v = addOp.run()\n",
    "print(\"%s: %r\\n\" % (type(v), v))\n",
    "v = c.eval()\n",
    "print(\"%s: %r\\n\" % (type(v), v))\n",
    "sess.close()"
   ]
  },
  {
   "cell_type": "code",
   "execution_count": null,
   "metadata": {
    "collapsed": true
   },
   "outputs": [],
   "source": [
    "# %load session_inout_test.py\n",
    "# tensorflow에서는 numpy나 list 지원.\n",
    "import tensorflow as tf\n",
    "\n",
    "sess = tf.Session()\n",
    "\n",
    "a = tf.constant(1)\n",
    "b = tf.constant(2)\n",
    "c = a + b\n",
    "x = tf.constant([10, 20])         #list를 텐서로 만듦\n",
    "y = tf.constant([1.0, 2.0])\n",
    "\n",
    "v = sess.run(a)\n",
    "print(\"%s: %r\\n\" % (type(v), v))\n",
    "\n",
    "v = sess.run(c)\n",
    "print(\"%s: %r\\n\" % (type(v), v))\n",
    "\n",
    "v = sess.run(x)                   #numpy 형태로 출력됨.\n",
    "print(\"%s: %r\\n\" % (type(v), v))\n",
    "\n",
    "v = sess.run([x, y])              #numpy 형태가 묶여서 리스트 형태로 출력됨. (run에서 지정해준대로 출력된다)\n",
    "print(\"%s: %r\\n\" % (type(v), v))\n",
    "\n",
    "import collections\n",
    "MyData = collections.namedtuple('MyData', ['x', 'y'])\n",
    "v = sess.run({'k1': MyData(x, y), 'k2': [y, x]})\n",
    "print(\"%s: %r\\n\" % (type(v), v))\n",
    "\n",
    "v = sess.run(c, feed_dict={a: 3, b: 4})    #feed_dict는 텐서를 변경할 때 사용. 외부 데이터를 input할 때.\n",
    "print(v)\n"
   ]
  },
  {
   "cell_type": "markdown",
   "metadata": {},
   "source": [
    "# 상수\n",
    "상수 텐서와 그 상수 텐서의 값을 채우는 텐서 연산을 생성한다."
   ]
  },
  {
   "cell_type": "code",
   "execution_count": null,
   "metadata": {
    "collapsed": true
   },
   "outputs": [],
   "source": [
    "# %load constant_test.py\n",
    "import tensorflow as tf\n",
    "import numpy as np\n",
    "\n",
    "sess = tf.Session()"
   ]
  },
  {
   "cell_type": "code",
   "execution_count": null,
   "metadata": {
    "collapsed": true
   },
   "outputs": [],
   "source": [
    "# 값 상수 텐서\n",
    "\n",
    "c1 = tf.constant(1.0)\n",
    "print(type(c1), \",\", c1, \",\", c1.shape, \",\", c1.dtype, \",\", sess.run(c1))\n",
    "c2 = tf.constant([1.0, 2.0, 3.0])\n",
    "print(c2.shape, \",\", c2.dtype, \",\", sess.run(c2))\n",
    "c3 = tf.constant([[1.0, 2.0, 3.0], [4.0, 5.0, 6.0]])\n",
    "print(c3.shape, \",\", c3.dtype, \",\", sess.run(c3))\n",
    "c4 = tf.constant(np.array([[1.0, 2.0, 3.0], [4.0, 5.0, 6.0]]))\n",
    "print(c4.shape, \",\", c4.dtype, \",\", sess.run(c4))\n",
    "c5 = tf.constant(1.0, shape=(2,3))\n",
    "print(c5.shape, \",\", c5.dtype, \",\", sess.run(c5))\n",
    "c6 = tf.constant([1.0, 2.0], shape=(2,3))\n",
    "print(c6.shape, \",\", c6.dtype, \",\", sess.run(c6))\n",
    "c7 = tf.constant([1, 2, 3])\n",
    "print(c7.dtype, \",\", sess.run(c7))"
   ]
  },
  {
   "cell_type": "code",
   "execution_count": null,
   "metadata": {
    "collapsed": true
   },
   "outputs": [],
   "source": [
    "# 특정값 상수 텐서\n",
    "\n",
    "print(sess.run(tf.zeros([3])))           #0으로 초기화된 텐서\n",
    "print(sess.run(tf.ones([3])))            #1로 초기화된 텐서\n",
    "print(sess.run(tf.fill([3], 2.0)))\n",
    "print(sess.run(tf.zeros_like((c2))))\n",
    "print(sess.run(tf.ones_like((c2))))"
   ]
  },
  {
   "cell_type": "code",
   "execution_count": null,
   "metadata": {
    "collapsed": true
   },
   "outputs": [],
   "source": [
    "# 시퀀스\n",
    "\n",
    "c8 = tf.range(1, 5)\n",
    "print(type(c8), \",\", c8, \",\", sess.run(c8))\n",
    "c9 = tf.range(5)\n",
    "print(type(c9), \",\", c9, \",\", sess.run(c9))\n",
    "print(sess.run(tf.lin_space(1.0, 3.0, 3)))\n",
    "\n",
    "sess.close()"
   ]
  },
  {
   "cell_type": "markdown",
   "metadata": {},
   "source": [
    "# 변수\n",
    "여러 세션간에 공유되어 영속적으로 존재하는 변수 (tf.Variable 클래스)"
   ]
  },
  {
   "cell_type": "code",
   "execution_count": null,
   "metadata": {
    "collapsed": true
   },
   "outputs": [],
   "source": [
    "# %load variable_test.py\n",
    "import tensorflow as tf\n",
    "\n",
    "#get_variable 이 권장되는 방법. 참조해서 있으면 사용하고 없으면 생성하기 때문.\n",
    "v1 = tf.get_variable(\"v1\", (2,))                 #첫번째 인자가 변수명, 두번째 인자가 크기. #(2,)에서 ',' 역할은 tuple을 만들기 위해\n",
    "v2 = tf.get_variable(\"v2\", (2,), dtype=tf.int32)\n",
    "v3 = tf.get_variable(\"v3\", dtype=tf.int32, initializer=tf.constant([3, 4]))        #옵션에서 값을 대입해서 초기화까지 시켜준다.\n",
    "\n",
    "assign = v1.assign(tf.constant([3.0, 4.0]))      #변수에 값을 대입할 때는 assign 함수를 사용해서 대입한다.\n",
    "print(type(v1), v1)\n",
    "\n",
    "init = tf.global_variables_initializer()         #초기화해주는 함수\n",
    "\n",
    "with tf.Session() as sess:\n",
    "    sess.run(init)                               #초기화 된 변수를 run해줘야 함.\n",
    "    print(sess.run([v1, v2, v3, assign]))\n"
   ]
  },
  {
   "cell_type": "markdown",
   "metadata": {},
   "source": [
    "# placeholder\n",
    "노드에 전달되는 매개 변수 역할 (텐서의 일종)"
   ]
  },
  {
   "cell_type": "code",
   "execution_count": null,
   "metadata": {
    "collapsed": true
   },
   "outputs": [],
   "source": [
    "# %load placeholder_test.py\n",
    "import tensorflow as tf\n",
    "\n",
    "a = tf.placeholder(tf.int16)    #일단 자료형 지정\n",
    "b = tf.placeholder(tf.int16)\n",
    "\n",
    "print(type(a), a)\n",
    "\n",
    "add = tf.add(a, b) # same with 'a + b'\n",
    "mul = tf.multiply(a, b) # same with 'a * b'\n",
    "print(mul)\n",
    "\n",
    "with tf.Session() as sess:\n",
    "    print(\"Addition with variables: %d\" % sess.run(add, feed_dict={a:2, b:3}))\n",
    "    print(\"Multiplication with variables: %d\" % sess.run(mul, feed_dict={a:2, b:3}))\n"
   ]
  },
  {
   "cell_type": "code",
   "execution_count": null,
   "metadata": {
    "collapsed": true
   },
   "outputs": [],
   "source": [
    "# %load matmul_test.py\n",
    "import tensorflow as tf\n",
    "\n",
    "a = tf.constant([[3., 3.]])  # 1 x 2 matrix\n",
    "b = tf.constant([[2.], [2.]]) # 2 x 1 matrix\n",
    "\n",
    "product = tf.matmul(a, b)\n",
    "\n",
    "with tf.Session() as sess:\n",
    "    print(sess.run(product))\n"
   ]
  },
  {
   "cell_type": "markdown",
   "metadata": {},
   "source": [
    "# GPU와 CPU 속도 비교\n",
    "\n",
    "- GPU의 경우 24000 * 24000 이 5초 걸림\n",
    "- CPU의 경우 24000 * 24000 이 120초 걸림"
   ]
  },
  {
   "cell_type": "code",
   "execution_count": null,
   "metadata": {
    "collapsed": true
   },
   "outputs": [],
   "source": [
    "# %load matmul_speed_test.py\n",
    "import os\n",
    "# os.environ[\"CUDA_VISIBLE_DEVICES\"] = \",\"  # use CPU only\n",
    "# del os.environ[\"CUDA_VISIBLE_DEVICES\"]\n",
    "\n",
    "import tensorflow as tf\n",
    "import time\n",
    "\n",
    "for size in [1000, 2000, 4000, 8000, 16000, 24000]:  # 12 MB, 48 MB, 192 MB, 768 MB, 3 GB, 6.75 GB\n",
    "    a = tf.random_uniform((size, size), 0.0, 1.0)\n",
    "    b = tf.random_uniform((size, size), 0.0, 1.0)\n",
    "    c = tf.matmul(a, b)\n",
    "\n",
    "    with tf.Session() as sess:\n",
    "        start = time.time()\n",
    "        sess.run(c)\n",
    "        end = time.time()\n",
    "\n",
    "    print(\"%s: %f 초\" % (c.shape, end - start))\n",
    "    a = b = c = None    # 쓰레기 수집\n",
    "    tf.reset_default_graph()\n"
   ]
  },
  {
   "cell_type": "markdown",
   "metadata": {},
   "source": [
    "\n",
    "# 최적화 문제 - 분석적 해법 (최적 해)\n",
    "\n",
    "- 손실 함수    \n",
    "    - x^4 - 3 x^3 + 2\n",
    "- 풀이\n",
    "    - f'(x) = 4 x^3 - 9 x^2 = 0\n",
    "    - f(0) = 2\n",
    "    - f(2.25) = 2.25^4 - 3*2.25^3 + 2 = -6.54296875"
   ]
  },
  {
   "cell_type": "markdown",
   "metadata": {},
   "source": [
    "#  절차적 해법 (근사 해)\n",
    "- 실제로는 위의 방법처럼 인수분해를 통해 찾기 어렵기 때문에 근사 해를 찾는다"
   ]
  },
  {
   "cell_type": "code",
   "execution_count": null,
   "metadata": {
    "collapsed": true
   },
   "outputs": [],
   "source": [
    "# %load gradient_descent_test.py\n",
    "## 학습 알고리듬 설정\n",
    "x = 6 # The algorithm starts at x=6     #초기값\n",
    "delta = 0.01 # step size\n",
    "n = 50 # number of learning iterations\n",
    "\n",
    "## 손실 함수\n",
    "def f(x):\n",
    "    return x ** 4 - 3 * x ** 3 + 2\n",
    "\n",
    "## 수작업 미분 함수\n",
    "def f_derivative(x):\n",
    "    return 4 * x**3 - 9 * x**2\n",
    "\n",
    "## 경사하강 학습\n",
    "print(\"%3d: f(%f) = %f\" % (0, x, f(x)))\n",
    "\n",
    "for count in range(n):\n",
    "    x -= delta * f_derivative(x)\n",
    "    print(\"%3d: f(%f) = %f\" % ((count+1), x, f(x)))\n"
   ]
  },
  {
   "cell_type": "markdown",
   "metadata": {},
   "source": [
    "# 절차적 해법 (텐서플로)"
   ]
  },
  {
   "cell_type": "code",
   "execution_count": null,
   "metadata": {
    "collapsed": true
   },
   "outputs": [],
   "source": [
    "# %load gradient_descent_tf_test.py\n",
    "import tensorflow as tf\n",
    "\n",
    "precision = 0.00001\n",
    "\n",
    "## 최적화 함수 정의\n",
    "\n",
    "x = tf.get_variable(\"x\", initializer=6.0)\n",
    "y = x**4 - 3 * x**3 + 2                      # x가 텐서이기 때문에 전부 다 텐서 연산이 된다.\n",
    "\n",
    "## 경사 하강 알고리듬 설정\n",
    "\n",
    "a = tf.get_variable(\"a\", initializer=0.01) # learning rate, alpha\n",
    "optimizer = tf.train.GradientDescentOptimizer(a)\n",
    "train = optimizer.minimize(y)\n",
    "\n",
    "# 변수 초기화\n",
    "init = tf.global_variables_initializer()\n",
    "\n",
    "## 훈련\n",
    "sess = tf.Session()\n",
    "sess.run(init)\n",
    "\n",
    "count = 0\n",
    "x_old = 0\n",
    "x_new = sess.run(x)\n",
    "print(\"%3d: f(%f) = %f, precision: %f\" % (count, x_new, sess.run(y), x_new - x_old))\n",
    "\n",
    "# 한번 돌 때마다 한번 학습\n",
    "while abs(x_new - x_old) > precision:\n",
    "    count += 1\n",
    "    x_old = x_new\n",
    "    sess.run(train)\n",
    "    x_new = sess.run(x)\n",
    "    print(\"%3d: f(%f) = %f, precision: %f\" % (count, x_new, sess.run(y), x_new - x_old))\n",
    "\n",
    "print(\"Local minimum occurs at\", x_new)\n"
   ]
  },
  {
   "cell_type": "markdown",
   "metadata": {},
   "source": [
    "# 경사하강 학습법 - 단순 선형회귀"
   ]
  },
  {
   "cell_type": "code",
   "execution_count": null,
   "metadata": {
    "collapsed": true
   },
   "outputs": [],
   "source": [
    "# %load simple_linear_regression_gd_tf_test.py\n",
    "import tensorflow as tf\n",
    "\n",
    "## 데이터 수집\n",
    "\n",
    "x_data = [1, 2, 3]\n",
    "y_data = [1, 2, 3]\n",
    "\n",
    "## 예측 모델 정의\n",
    "\n",
    "W = tf.Variable(tf.random_uniform([1], -1.0, 1.0))\n",
    "b = tf.Variable(tf.random_uniform([1], -1.0, 1.0))\n",
    "y = W * x_data + b            #예측값\n",
    "\n",
    "## 비용 함수, 최적화 함수 정의\n",
    "\n",
    "cost = tf.reduce_mean(tf.square(y - y_data))     # reduce_mean 함수로 벡터값을 스칼라값으로 바꿔줌. \n",
    "a = tf.Variable(0.1) # learning rate, alpha      # 학습률을 변경할수도 있기때문에 변수지정\n",
    "optimizer = tf.train.GradientDescentOptimizer(a)\n",
    "train = optimizer.minimize(cost)\n",
    "\n",
    "# 변수 초기화\n",
    "init = tf.global_variables_initializer()\n",
    "\n",
    "## 훈련\n",
    "sess = tf.Session()\n",
    "sess.run(init)\n",
    "\n",
    "for step in range(2001):\n",
    "    sess.run(train)\n",
    "    if step % 20 == 0:\n",
    "        print(step, sess.run(cost), sess.run(W), sess.run(b))\n"
   ]
  },
  {
   "cell_type": "code",
   "execution_count": null,
   "metadata": {
    "collapsed": true,
    "scrolled": true
   },
   "outputs": [],
   "source": [
    "# %load simple_linear_regression_gd_tf_placeholder_test.py\n",
    "import tensorflow as tf\n",
    "\n",
    "## 데이터 수집\n",
    "\n",
    "x_data = [1, 2, 3]\n",
    "y_data = [1, 2, 3]\n",
    "\n",
    "## 예측 모델 정의\n",
    "\n",
    "X = tf.placeholder(\"float\")\n",
    "y = tf.placeholder(\"float\")\n",
    "W = tf.Variable(tf.random_uniform([1], -1.0, 1.0))\n",
    "b = tf.Variable(tf.random_uniform([1], -1.0, 1.0))\n",
    "pred = W * X + b\n",
    "\n",
    "## 비용 함수, 최적화 함수 정의\n",
    "\n",
    "cost = tf.reduce_mean(tf.square(pred - y))\n",
    "a = tf.Variable(0.1) # learning rate, alpha\n",
    "optimizer = tf.train.GradientDescentOptimizer(a)\n",
    "train = optimizer.minimize(cost)\n",
    "# 변수 초기화\n",
    "init = tf.global_variables_initializer()\n",
    "\n",
    "## 훈련\n",
    "sess = tf.Session()\n",
    "sess.run(init)\n",
    "\n",
    "for step in range(2001):\n",
    "    sess.run(train, feed_dict = {X: x_data, y: y_data}) \n",
    "    if step % 20 == 0:\n",
    "        cost_, W_, b_ = sess.run([cost, W, b], feed_dict = {X: x_data, y: y_data}) \n",
    "        print(step, cost_, W_, b_)\n",
    "\n",
    "print(sess.run(pred, feed_dict = {X: [2]}))\n"
   ]
  },
  {
   "cell_type": "markdown",
   "metadata": {},
   "source": [
    "# 실제 예시 (insurance.csv)"
   ]
  },
  {
   "cell_type": "code",
   "execution_count": null,
   "metadata": {
    "collapsed": true
   },
   "outputs": [],
   "source": [
    "# %load insurance_simple_linear_regression_gd_tf_test.py\n",
    "import tensorflow as tf\n",
    "import math\n",
    "import numpy as np\n",
    "import pandas as pd\n",
    "\n",
    "## 데이터 수집\n",
    "\n",
    "insurance = pd.read_csv(\"insurance.csv\")\n",
    "print(insurance[0:5])\n",
    "\n",
    "age = insurance[\"age\"].values\n",
    "expenses = insurance[\"expenses\"].values\n",
    "\n",
    "print(\"\\n [age, expenses] : \",[age,expenses])"
   ]
  },
  {
   "cell_type": "code",
   "execution_count": null,
   "metadata": {
    "collapsed": true
   },
   "outputs": [],
   "source": [
    "## 예측 모델 정의\n",
    "X = tf.placeholder(\"float\")\n",
    "Y = tf.placeholder(\"float\")\n",
    "\n",
    "tf_coef = tf.Variable(tf.random_uniform([1], -1.0, 1.0))\n",
    "tf_intercept = tf.Variable(tf.random_uniform([1], -1.0, 1.0))\n",
    "tf_expenses_pred = tf_coef * X + tf_intercept"
   ]
  },
  {
   "cell_type": "code",
   "execution_count": null,
   "metadata": {
    "collapsed": true
   },
   "outputs": [],
   "source": [
    "## 비용 함수, 최적화 함수 정의\n",
    "tf_cost = tf.reduce_mean(tf.square(tf_expenses_pred - Y))\n",
    "a = tf.Variable(0.0001)\n",
    "\n",
    "optimizer = tf.train.GradientDescentOptimizer(a)\n",
    "train = optimizer.minimize(tf_cost)\n",
    "\n",
    "#변수 초기화\n",
    "init = tf.global_variables_initializer()"
   ]
  },
  {
   "cell_type": "code",
   "execution_count": null,
   "metadata": {
    "collapsed": true
   },
   "outputs": [],
   "source": [
    "## 훈련\n",
    "sess = tf.Session()\n",
    "sess.run(init)\n",
    "for step in range(300000):\n",
    "  sess.run(train, feed_dict={X: age, Y: expenses})\n",
    "  if step % 10000 == 0:\n",
    "    cost, coef, intercept = sess.run([tf_cost, tf_coef, tf_intercept], feed_dict={X: age, Y: expenses})\n",
    "    print(step, cost, math.sqrt(cost), coef, intercept)"
   ]
  },
  {
   "cell_type": "code",
   "execution_count": null,
   "metadata": {
    "collapsed": true
   },
   "outputs": [],
   "source": [
    "## 예측\n",
    "coef = sess.run(tf_coef)\n",
    "intercept = sess.run(tf_interceopt)\n",
    "print(coef * np.array[20, 40, 60])\n",
    "......\n"
   ]
  },
  {
   "cell_type": "markdown",
   "metadata": {},
   "source": [
    "# 텐서보드 (TensorBoard)"
   ]
  },
  {
   "cell_type": "markdown",
   "metadata": {},
   "source": [
    "알고리듬이 어떻게 돌아가고 있는지 알려주기 위해 많은 정보를 모니터링하고 디스플레이해준다."
   ]
  },
  {
   "cell_type": "code",
   "execution_count": null,
   "metadata": {
    "collapsed": true
   },
   "outputs": [],
   "source": [
    "!c:\\anaconda3\\scripts\\tensorboard --logdir /tmp/summary_logs"
   ]
  },
  {
   "cell_type": "code",
   "execution_count": null,
   "metadata": {
    "collapsed": true
   },
   "outputs": [],
   "source": [
    "# %load summary_test.py\n",
    "import tensorflow as tf\n",
    "\n",
    "tf.reset_default_graph()\n",
    "\n",
    "## 데이터 수집\n",
    "\n",
    "x_data = [1, 2, 3]\n",
    "y_data = [1, 2, 3]\n",
    "\n",
    "## 예측 모델 정의\n",
    "\n",
    "W = tf.get_variable(\"W\", initializer=tf.random_uniform([1], -1.0, 1.0))\n",
    "b = tf.get_variable(\"b\", initializer=tf.random_uniform([1], -1.0, 1.0))\n",
    "y = W * x_data + b\n",
    "\n",
    "## 비용 함수, 최적화 함수 정의\n",
    "\n",
    "cost = tf.reduce_mean(tf.square(y - y_data))\n",
    "alpha = tf.get_variable(\"alpha\", initializer=0.01) # learning rate, alpha\n",
    "optimizer = tf.train.GradientDescentOptimizer(alpha)\n",
    "train = optimizer.minimize(cost)\n",
    "\n",
    "## 초기화, summary and graph log\n",
    "\n",
    "init = tf.global_variables_initializer()\n",
    "\n",
    "tf.summary.scalar(\"cost\", cost)\n",
    "tf.summary.scalar(\"W\", W[0])\n",
    "tf.summary.scalar(\"b\", b[0])\n",
    "\n",
    "summary_op = tf.summary.merge_all()\n",
    "saver = tf.train.Saver()\n",
    "\n",
    "sess = tf.Session()\n",
    "summary_writer = tf.summary.FileWriter(\"summary_logs/\", sess.graph)\n",
    "sess.run(init)\n",
    "\n",
    "## 훈련\n",
    "\n",
    "for step in range(500):\n",
    "    sess.run(train)\n",
    "    if step % 20 == 0:\n",
    "        print(step, sess.run(cost), sess.run(W), sess.run(b))\n",
    "    summary_str = sess.run(summary_op)\n",
    "    summary_writer.add_summary(summary_str, step)\n",
    "    saver.save(sess, \"summary_logs/model-checkpoint\", global_stbep=step)\n"
   ]
  },
  {
   "cell_type": "markdown",
   "metadata": {},
   "source": [
    "http://localhost:6006 방문"
   ]
  },
  {
   "cell_type": "markdown",
   "metadata": {},
   "source": [
    "# MNIST 예제"
   ]
  },
  {
   "cell_type": "code",
   "execution_count": 1,
   "metadata": {},
   "outputs": [
    {
     "name": "stdout",
     "output_type": "stream",
     "text": [
      "/bin/sh: 1: c:Anaconda3tensorboard: not found\r\n"
     ]
    }
   ],
   "source": [
    "!c:\\Anaconda3\\tensorboard --logdir /tmp/mnist_logs"
   ]
  },
  {
   "cell_type": "code",
   "execution_count": 2,
   "metadata": {},
   "outputs": [
    {
     "name": "stderr",
     "output_type": "stream",
     "text": [
      "/home/user/anaconda3/lib/python3.6/site-packages/h5py/__init__.py:34: FutureWarning: Conversion of the second argument of issubdtype from `float` to `np.floating` is deprecated. In future, it will be treated as `np.float64 == np.dtype(float).type`.\n",
      "  from ._conv import register_converters as _register_converters\n"
     ]
    }
   ],
   "source": [
    "# %load mnist_softmax_gd_tf_summary_test.py\n",
    "# Copyright (c) 2016-2017, Deogtae Kim & DTWARE Inc. All rights reserved.\n",
    "import os\n",
    "# os.environ[\"CUDA_VISIBLE_DEVICES\"] = \",\"\n",
    "# del os.environ[\"CUDA_VISIBLE_DEVICES\"]\n",
    "\n",
    "import tensorflow as tf\n",
    "import numpy as np\n",
    "import matplotlib.pyplot as plt\n",
    "\n",
    "tf.reset_default_graph()\n",
    "tf.set_random_seed(107)"
   ]
  },
  {
   "cell_type": "code",
   "execution_count": 3,
   "metadata": {},
   "outputs": [
    {
     "name": "stdout",
     "output_type": "stream",
     "text": [
      "WARNING:tensorflow:From <ipython-input-3-7d9a8ca6f7a8>:4: read_data_sets (from tensorflow.contrib.learn.python.learn.datasets.mnist) is deprecated and will be removed in a future version.\n",
      "Instructions for updating:\n",
      "Please use alternatives such as official/mnist/dataset.py from tensorflow/models.\n",
      "WARNING:tensorflow:From /home/user/anaconda3/lib/python3.6/site-packages/tensorflow/contrib/learn/python/learn/datasets/mnist.py:260: maybe_download (from tensorflow.contrib.learn.python.learn.datasets.base) is deprecated and will be removed in a future version.\n",
      "Instructions for updating:\n",
      "Please write your own downloading logic.\n",
      "WARNING:tensorflow:From /home/user/anaconda3/lib/python3.6/site-packages/tensorflow/contrib/learn/python/learn/datasets/mnist.py:262: extract_images (from tensorflow.contrib.learn.python.learn.datasets.mnist) is deprecated and will be removed in a future version.\n",
      "Instructions for updating:\n",
      "Please use tf.data to implement this functionality.\n",
      "Extracting MNIST_data/train-images-idx3-ubyte.gz\n",
      "WARNING:tensorflow:From /home/user/anaconda3/lib/python3.6/site-packages/tensorflow/contrib/learn/python/learn/datasets/mnist.py:267: extract_labels (from tensorflow.contrib.learn.python.learn.datasets.mnist) is deprecated and will be removed in a future version.\n",
      "Instructions for updating:\n",
      "Please use tf.data to implement this functionality.\n",
      "Extracting MNIST_data/train-labels-idx1-ubyte.gz\n",
      "WARNING:tensorflow:From /home/user/anaconda3/lib/python3.6/site-packages/tensorflow/contrib/learn/python/learn/datasets/mnist.py:110: dense_to_one_hot (from tensorflow.contrib.learn.python.learn.datasets.mnist) is deprecated and will be removed in a future version.\n",
      "Instructions for updating:\n",
      "Please use tf.one_hot on tensors.\n",
      "Extracting MNIST_data/t10k-images-idx3-ubyte.gz\n",
      "Extracting MNIST_data/t10k-labels-idx1-ubyte.gz\n",
      "WARNING:tensorflow:From /home/user/anaconda3/lib/python3.6/site-packages/tensorflow/contrib/learn/python/learn/datasets/mnist.py:290: DataSet.__init__ (from tensorflow.contrib.learn.python.learn.datasets.mnist) is deprecated and will be removed in a future version.\n",
      "Instructions for updating:\n",
      "Please use alternatives such as official/mnist/dataset.py from tensorflow/models.\n",
      "<class 'tensorflow.contrib.learn.python.learn.datasets.mnist.DataSet'>\n",
      "['__add__', '__class__', '__contains__', '__delattr__', '__dir__', '__doc__', '__eq__', '__format__', '__ge__', '__getattribute__', '__getitem__', '__getnewargs__', '__gt__', '__hash__', '__init__', '__init_subclass__', '__iter__', '__le__', '__len__', '__lt__', '__module__', '__mul__', '__ne__', '__new__', '__reduce__', '__reduce_ex__', '__repr__', '__rmul__', '__setattr__', '__sizeof__', '__slots__', '__str__', '__subclasshook__', '_asdict', '_fields', '_make', '_replace', '_source', 'count', 'index', 'test', 'train', 'validation']\n",
      "<class 'numpy.ndarray'> <class 'numpy.ndarray'>\n",
      "(55000, 784)\n",
      "(784,)\n",
      "[0.         0.         0.         0.         0.         0.\n",
      " 0.         0.         0.         0.         0.         0.\n",
      " 0.         0.         0.         0.         0.         0.\n",
      " 0.         0.         0.         0.         0.         0.\n",
      " 0.         0.         0.         0.         0.         0.\n",
      " 0.         0.         0.         0.         0.         0.\n",
      " 0.         0.         0.         0.         0.         0.\n",
      " 0.         0.         0.         0.         0.         0.\n",
      " 0.         0.         0.         0.         0.         0.\n",
      " 0.         0.         0.         0.         0.         0.\n",
      " 0.         0.         0.         0.         0.         0.\n",
      " 0.         0.         0.         0.         0.         0.\n",
      " 0.         0.         0.         0.         0.         0.\n",
      " 0.         0.         0.         0.         0.         0.\n",
      " 0.         0.         0.         0.         0.         0.\n",
      " 0.         0.         0.         0.         0.         0.\n",
      " 0.         0.         0.         0.         0.         0.\n",
      " 0.         0.         0.         0.         0.         0.\n",
      " 0.         0.         0.         0.         0.         0.\n",
      " 0.         0.         0.         0.         0.         0.\n",
      " 0.         0.         0.         0.         0.         0.\n",
      " 0.         0.         0.         0.         0.         0.\n",
      " 0.         0.         0.         0.         0.         0.\n",
      " 0.         0.         0.         0.         0.         0.\n",
      " 0.         0.         0.         0.         0.         0.\n",
      " 0.         0.         0.         0.         0.         0.\n",
      " 0.         0.         0.         0.         0.         0.\n",
      " 0.         0.         0.         0.         0.         0.\n",
      " 0.         0.         0.         0.         0.         0.\n",
      " 0.         0.         0.         0.         0.         0.\n",
      " 0.         0.         0.         0.         0.         0.\n",
      " 0.         0.         0.         0.         0.         0.\n",
      " 0.         0.         0.         0.         0.         0.\n",
      " 0.         0.         0.         0.         0.         0.\n",
      " 0.         0.         0.         0.3803922  0.37647063 0.3019608\n",
      " 0.46274513 0.2392157  0.         0.         0.         0.\n",
      " 0.         0.         0.         0.         0.         0.\n",
      " 0.         0.         0.         0.         0.         0.3529412\n",
      " 0.5411765  0.9215687  0.9215687  0.9215687  0.9215687  0.9215687\n",
      " 0.9215687  0.9843138  0.9843138  0.9725491  0.9960785  0.9607844\n",
      " 0.9215687  0.74509805 0.08235294 0.         0.         0.\n",
      " 0.         0.         0.         0.         0.         0.\n",
      " 0.         0.         0.54901963 0.9843138  0.9960785  0.9960785\n",
      " 0.9960785  0.9960785  0.9960785  0.9960785  0.9960785  0.9960785\n",
      " 0.9960785  0.9960785  0.9960785  0.9960785  0.9960785  0.9960785\n",
      " 0.7411765  0.09019608 0.         0.         0.         0.\n",
      " 0.         0.         0.         0.         0.         0.\n",
      " 0.8862746  0.9960785  0.81568635 0.7803922  0.7803922  0.7803922\n",
      " 0.7803922  0.54509807 0.2392157  0.2392157  0.2392157  0.2392157\n",
      " 0.2392157  0.5019608  0.8705883  0.9960785  0.9960785  0.7411765\n",
      " 0.08235294 0.         0.         0.         0.         0.\n",
      " 0.         0.         0.         0.         0.14901961 0.32156864\n",
      " 0.0509804  0.         0.         0.         0.         0.\n",
      " 0.         0.         0.         0.         0.         0.\n",
      " 0.13333334 0.8352942  0.9960785  0.9960785  0.45098042 0.\n",
      " 0.         0.         0.         0.         0.         0.\n",
      " 0.         0.         0.         0.         0.         0.\n",
      " 0.         0.         0.         0.         0.         0.\n",
      " 0.         0.         0.         0.         0.         0.32941177\n",
      " 0.9960785  0.9960785  0.9176471  0.         0.         0.\n",
      " 0.         0.         0.         0.         0.         0.\n",
      " 0.         0.         0.         0.         0.         0.\n",
      " 0.         0.         0.         0.         0.         0.\n",
      " 0.         0.         0.         0.32941177 0.9960785  0.9960785\n",
      " 0.9176471  0.         0.         0.         0.         0.\n",
      " 0.         0.         0.         0.         0.         0.\n",
      " 0.         0.         0.         0.         0.         0.\n",
      " 0.         0.         0.         0.         0.         0.\n",
      " 0.4156863  0.6156863  0.9960785  0.9960785  0.95294124 0.20000002\n",
      " 0.         0.         0.         0.         0.         0.\n",
      " 0.         0.         0.         0.         0.         0.\n",
      " 0.         0.         0.         0.         0.         0.09803922\n",
      " 0.45882356 0.8941177  0.8941177  0.8941177  0.9921569  0.9960785\n",
      " 0.9960785  0.9960785  0.9960785  0.94117653 0.         0.\n",
      " 0.         0.         0.         0.         0.         0.\n",
      " 0.         0.         0.         0.         0.         0.\n",
      " 0.         0.26666668 0.4666667  0.86274517 0.9960785  0.9960785\n",
      " 0.9960785  0.9960785  0.9960785  0.9960785  0.9960785  0.9960785\n",
      " 0.9960785  0.5568628  0.         0.         0.         0.\n",
      " 0.         0.         0.         0.         0.         0.\n",
      " 0.         0.         0.         0.14509805 0.73333335 0.9921569\n",
      " 0.9960785  0.9960785  0.9960785  0.8745099  0.8078432  0.8078432\n",
      " 0.29411766 0.26666668 0.8431373  0.9960785  0.9960785  0.45882356\n",
      " 0.         0.         0.         0.         0.         0.\n",
      " 0.         0.         0.         0.         0.         0.\n",
      " 0.4431373  0.8588236  0.9960785  0.9490197  0.89019614 0.45098042\n",
      " 0.34901962 0.12156864 0.         0.         0.         0.\n",
      " 0.7843138  0.9960785  0.9450981  0.16078432 0.         0.\n",
      " 0.         0.         0.         0.         0.         0.\n",
      " 0.         0.         0.         0.         0.6627451  0.9960785\n",
      " 0.6901961  0.24313727 0.         0.         0.         0.\n",
      " 0.         0.         0.         0.18823531 0.9058824  0.9960785\n",
      " 0.9176471  0.         0.         0.         0.         0.\n",
      " 0.         0.         0.         0.         0.         0.\n",
      " 0.         0.         0.07058824 0.48627454 0.         0.\n",
      " 0.         0.         0.         0.         0.         0.\n",
      " 0.         0.32941177 0.9960785  0.9960785  0.6509804  0.\n",
      " 0.         0.         0.         0.         0.         0.\n",
      " 0.         0.         0.         0.         0.         0.\n",
      " 0.         0.         0.         0.         0.         0.\n",
      " 0.         0.         0.         0.         0.         0.54509807\n",
      " 0.9960785  0.9333334  0.22352943 0.         0.         0.\n",
      " 0.         0.         0.         0.         0.         0.\n",
      " 0.         0.         0.         0.         0.         0.\n",
      " 0.         0.         0.         0.         0.         0.\n",
      " 0.         0.         0.8235295  0.9803922  0.9960785  0.65882355\n",
      " 0.         0.         0.         0.         0.         0.\n",
      " 0.         0.         0.         0.         0.         0.\n",
      " 0.         0.         0.         0.         0.         0.\n",
      " 0.         0.         0.         0.         0.         0.\n",
      " 0.9490197  0.9960785  0.93725497 0.22352943 0.         0.\n",
      " 0.         0.         0.         0.         0.         0.\n",
      " 0.         0.         0.         0.         0.         0.\n",
      " 0.         0.         0.         0.         0.         0.\n",
      " 0.         0.         0.         0.34901962 0.9843138  0.9450981\n",
      " 0.3372549  0.         0.         0.         0.         0.\n",
      " 0.         0.         0.         0.         0.         0.\n",
      " 0.         0.         0.         0.         0.         0.\n",
      " 0.         0.         0.         0.         0.         0.\n",
      " 0.01960784 0.8078432  0.96470594 0.6156863  0.         0.\n",
      " 0.         0.         0.         0.         0.         0.\n",
      " 0.         0.         0.         0.         0.         0.\n",
      " 0.         0.         0.         0.         0.         0.\n",
      " 0.         0.         0.         0.         0.01568628 0.45882356\n",
      " 0.27058825 0.         0.         0.         0.         0.\n",
      " 0.         0.         0.         0.         0.         0.\n",
      " 0.         0.         0.         0.         0.         0.\n",
      " 0.         0.         0.         0.         0.         0.\n",
      " 0.         0.         0.         0.         0.         0.\n",
      " 0.         0.         0.         0.         0.         0.\n",
      " 0.         0.         0.         0.        ]\n",
      "(55000, 10)\n",
      "(10,)\n",
      "[0. 0. 0. 0. 0. 0. 0. 1. 0. 0.]\n",
      "55000 (55000, 784) (55000, 10)\n",
      "5000 (5000, 784) (5000, 10)\n",
      "10000 (10000, 784) (10000, 10)\n"
     ]
    }
   ],
   "source": [
    "## 데이터 수집\n",
    "\n",
    "from tensorflow.examples.tutorials.mnist import input_data\n",
    "mnist = input_data.read_data_sets('MNIST_data', one_hot=True)\n",
    "\n",
    "## 데이터 시각화, 전처리\n",
    "\n",
    "print(type(mnist.train))\n",
    "print(dir(mnist))\n",
    "print(type(mnist.train.images), type(mnist.train.labels))\n",
    "print(mnist.train.images.shape)\n",
    "print(mnist.train.images[0].shape)\n",
    "print(mnist.train.images[0])\n",
    "print(mnist.train.labels.shape)\n",
    "print(mnist.train.labels[0].shape)\n",
    "print(mnist.train.labels[0])\n",
    "print(mnist.train.num_examples, mnist.train.images.shape, mnist.train.labels.shape)\n",
    "print(mnist.validation.num_examples, mnist.validation.images.shape, mnist.validation.labels.shape)\n",
    "print(mnist.test.num_examples, mnist.test.images.shape, mnist.test.labels.shape)"
   ]
  },
  {
   "cell_type": "code",
   "execution_count": 4,
   "metadata": {},
   "outputs": [
    {
     "data": {
      "image/png": "[encoded data removed]",
      "text/plain": [
       "<matplotlib.figure.Figure at 0x7ff9b443e8d0>"
      ]
     },
     "metadata": {},
     "output_type": "display_data"
    }
   ],
   "source": [
    "%matplotlib inline          \n",
    "# 시각화하는 패키지. 웹브라우져에서 보여줄 수 있게끔 inline으로 선언\n",
    "fig, axes = plt.subplots(5, 5)\n",
    "for i in range(5):\n",
    "    for j in range(5):\n",
    "        axes[i,j].axis('off')\n",
    "        axes[i,j].imshow(mnist.train.images[i*5+j].reshape(28,28))\n",
    "        axes[i,j].set_title(\"%d\" % np.argmax(mnist.train.labels[i*5+j]))"
   ]
  },
  {
   "cell_type": "code",
   "execution_count": null,
   "metadata": {
    "collapsed": true
   },
   "outputs": [],
   "source": [
    "## 예측 모델 정의: 소프트맥스 회귀 모델\n",
    "\n",
    "X = tf.placeholder(tf.float32, [None, 784])                 # 행의 개수 변경 없으므로 None\n",
    "Y = tf.placeholder(tf.float32, [None, 10])\n",
    "W = tf.get_variable(\"W\", initializer=tf.zeros([784, 10]))\n",
    "b = tf.get_variable(\"b\", initializer=tf.zeros([10]))\n",
    "# 각 데이터에 대한 각 분류별 점수\n",
    "score = tf.matmul(X, W) + b         # 행렬의 곱이기 때문에 matmul(W, X)가 아닌 matmul(X, W). [5500, 784] * [784, 10]이 되어야 하므로\n",
    "# 각 데이터에 대한 각 분류별 확률\n",
    "pred = tf.nn.softmax(score)\n",
    "\n",
    "## 손실 함수, 정확도, 최적화 함수 정의\n",
    "\n",
    "cost = tf.reduce_mean(-tf.reduce_sum(Y * tf.log(pred), reduction_indices=[1]))\n",
    "correct_pred = tf.equal(tf.argmax(pred, 1), tf.argmax(Y, 1))                    # 숫자로 바꿔주는 코드.\n",
    "accuracy = tf.reduce_mean(tf.cast(correct_pred, tf.float32))\n",
    "#train_step = tf.train.GradientDescentOptimizer(0.5).minimize(cost)\n",
    "train_step = tf.train.AdamOptimizer(0.001).minimize(cost)\n",
    "\n",
    "# 로그 초기화\n",
    "\n",
    "tf.summary.histogram(\"W histogram\", W)\n",
    "tf.summary.histogram(\"b histogram\", b)\n",
    "tf.summary.scalar(\"cost\", cost)\n",
    "tf.summary.scalar(\"accuracy\", accuracy)\n",
    "\n",
    "summary_op = tf.summary.merge_all()\n",
    "saver = tf.train.Saver()\n",
    "\n",
    "sess = tf.Session()\n",
    "summary_writer = tf.summary.FileWriter(\"mnist_logs/\", sess.graph)\n",
    "\n",
    "## 훈련\n",
    "\n",
    "sess.run(tf.global_variables_initializer())\n",
    "import time\n",
    "start = time.time()\n",
    "for epoch in range(50):\n",
    "    avg_cost = 0\n",
    "    batch_count = int(mnist.train.num_examples / 100)\n",
    "    for _ in range(batch_count):\n",
    "        batch_xs, batch_ys = mnist.train.next_batch(100)\n",
    "        c, _  = sess.run([cost, train_step], feed_dict={X: batch_xs, Y: batch_ys})\n",
    "        avg_cost += c / batch_count\n",
    "#    print('Epoch:', '%04d' % (epoch + 1), 'cost =', '{:.9f}'.format(avg_cost), \n",
    "#          ', accuacy = ', '{:.9f}'.format(sess.run(accuracy, feed_dict={X: mnist.test.images, Y: mnist.test.labels})))\n",
    "    print('Epoch:', '%04d' % (epoch + 1), 'cost =', '{:.9f}'.format(avg_cost), \n",
    "          ', validation accuacy = ', '{:.9f}'.format(sess.run(accuracy, feed_dict={X: mnist.validation.images, Y: mnist.validation.labels})))\n",
    "    summary_str = sess.run(summary_op, feed_dict={X: mnist.validation.images, Y: mnist.validation.labels})\n",
    "    summary_writer.add_summary(summary_str, epoch)\n",
    "    saver.save(sess, \"mnist_logs/model-checkpoint\", global_step=epoch)\n",
    "    \n",
    "print('accuacy = ', '{:.9f}'.format(sess.run(accuracy, feed_dict={X: mnist.test.images, Y: mnist.test.labels})))\n",
    "print(\"훈련 시간:\", time.time() - start)  \n",
    "\n",
    "## 모델 평가\n",
    "\n",
    "print(sess.run(accuracy, feed_dict={X: mnist.test.images, Y: mnist.test.labels}))\n",
    "sess.close()"
   ]
  },
  {
   "cell_type": "markdown",
   "metadata": {},
   "source": [
    "http://localhost:6006 방문"
   ]
  },
  {
   "cell_type": "code",
   "execution_count": null,
   "metadata": {
    "collapsed": true
   },
   "outputs": [],
   "source": []
  }
 ],
 "metadata": {
  "kernelspec": {
   "display_name": "Python 3",
   "language": "python",
   "name": "python3"
  },
  "language_info": {
   "codemirror_mode": {
    "name": "ipython",
    "version": 3
   },
   "file_extension": ".py",
   "mimetype": "text/x-python",
   "name": "python",
   "nbconvert_exporter": "python",
   "pygments_lexer": "ipython3",
   "version": "3.6.5"
  }
 },
 "nbformat": 4,
 "nbformat_minor": 2
}
